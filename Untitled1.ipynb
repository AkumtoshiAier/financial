{
 "cells": [
  {
   "cell_type": "code",
   "execution_count": 2,
   "metadata": {},
   "outputs": [
    {
     "name": "stdout",
     "output_type": "stream",
     "text": [
      "Requirement already satisfied: dash==1.7.0 in /home/akum/anaconda3/lib/python3.7/site-packages (1.7.0)\n",
      "Requirement already satisfied: plotly in /home/akum/anaconda3/lib/python3.7/site-packages (from dash==1.7.0) (4.3.0)\n",
      "Requirement already satisfied: dash-renderer==1.2.2 in /home/akum/anaconda3/lib/python3.7/site-packages (from dash==1.7.0) (1.2.2)\n",
      "Requirement already satisfied: dash-html-components==1.0.2 in /home/akum/anaconda3/lib/python3.7/site-packages (from dash==1.7.0) (1.0.2)\n",
      "Requirement already satisfied: future in /home/akum/anaconda3/lib/python3.7/site-packages (from dash==1.7.0) (0.17.1)\n",
      "Requirement already satisfied: dash-core-components==1.6.0 in /home/akum/anaconda3/lib/python3.7/site-packages (from dash==1.7.0) (1.6.0)\n",
      "Requirement already satisfied: flask-compress in /home/akum/anaconda3/lib/python3.7/site-packages (from dash==1.7.0) (1.4.0)\n",
      "Requirement already satisfied: dash-table==4.5.1 in /home/akum/anaconda3/lib/python3.7/site-packages (from dash==1.7.0) (4.5.1)\n",
      "Requirement already satisfied: Flask>=1.0.2 in /home/akum/anaconda3/lib/python3.7/site-packages (from dash==1.7.0) (1.1.1)\n",
      "Requirement already satisfied: six in /home/akum/anaconda3/lib/python3.7/site-packages (from plotly->dash==1.7.0) (1.12.0)\n",
      "Requirement already satisfied: retrying>=1.3.3 in /home/akum/anaconda3/lib/python3.7/site-packages (from plotly->dash==1.7.0) (1.3.3)\n",
      "Requirement already satisfied: Werkzeug>=0.15 in /home/akum/anaconda3/lib/python3.7/site-packages (from Flask>=1.0.2->dash==1.7.0) (0.16.0)\n",
      "Requirement already satisfied: itsdangerous>=0.24 in /home/akum/anaconda3/lib/python3.7/site-packages (from Flask>=1.0.2->dash==1.7.0) (1.1.0)\n",
      "Requirement already satisfied: Jinja2>=2.10.1 in /home/akum/anaconda3/lib/python3.7/site-packages (from Flask>=1.0.2->dash==1.7.0) (2.10.3)\n",
      "Requirement already satisfied: click>=5.1 in /home/akum/anaconda3/lib/python3.7/site-packages (from Flask>=1.0.2->dash==1.7.0) (7.0)\n",
      "Requirement already satisfied: MarkupSafe>=0.23 in /home/akum/anaconda3/lib/python3.7/site-packages (from Jinja2>=2.10.1->Flask>=1.0.2->dash==1.7.0) (1.1.1)\n",
      "Note: you may need to restart the kernel to use updated packages.\n"
     ]
    }
   ],
   "source": [
    "pip install dash==1.7.0"
   ]
  },
  {
   "cell_type": "code",
   "execution_count": 3,
   "metadata": {},
   "outputs": [
    {
     "name": "stdout",
     "output_type": "stream",
     "text": [
      "Requirement already satisfied: bokeh in /home/akum/anaconda3/lib/python3.7/site-packages (1.3.4)\n",
      "Requirement already satisfied: packaging>=16.8 in /home/akum/anaconda3/lib/python3.7/site-packages (from bokeh) (19.2)\n",
      "Requirement already satisfied: six>=1.5.2 in /home/akum/anaconda3/lib/python3.7/site-packages (from bokeh) (1.12.0)\n",
      "Requirement already satisfied: tornado>=4.3 in /home/akum/anaconda3/lib/python3.7/site-packages (from bokeh) (6.0.3)\n",
      "Requirement already satisfied: pillow>=4.0 in /home/akum/anaconda3/lib/python3.7/site-packages (from bokeh) (6.2.0)\n",
      "Requirement already satisfied: PyYAML>=3.10 in /home/akum/anaconda3/lib/python3.7/site-packages (from bokeh) (5.1.2)\n",
      "Requirement already satisfied: python-dateutil>=2.1 in /home/akum/anaconda3/lib/python3.7/site-packages (from bokeh) (2.8.0)\n",
      "Requirement already satisfied: numpy>=1.7.1 in /home/akum/anaconda3/lib/python3.7/site-packages (from bokeh) (1.17.2)\n",
      "Requirement already satisfied: Jinja2>=2.7 in /home/akum/anaconda3/lib/python3.7/site-packages (from bokeh) (2.10.3)\n",
      "Requirement already satisfied: pyparsing>=2.0.2 in /home/akum/anaconda3/lib/python3.7/site-packages (from packaging>=16.8->bokeh) (2.4.2)\n",
      "Requirement already satisfied: MarkupSafe>=0.23 in /home/akum/anaconda3/lib/python3.7/site-packages (from Jinja2>=2.7->bokeh) (1.1.1)\n",
      "Note: you may need to restart the kernel to use updated packages.\n"
     ]
    }
   ],
   "source": [
    "pip install bokeh\n"
   ]
  },
  {
   "cell_type": "code",
   "execution_count": null,
   "metadata": {},
   "outputs": [],
   "source": []
  }
 ],
 "metadata": {
  "kernelspec": {
   "display_name": "Python 3",
   "language": "python",
   "name": "python3"
  },
  "language_info": {
   "codemirror_mode": {
    "name": "ipython",
    "version": 3
   },
   "file_extension": ".py",
   "mimetype": "text/x-python",
   "name": "python",
   "nbconvert_exporter": "python",
   "pygments_lexer": "ipython3",
   "version": "3.7.4"
  }
 },
 "nbformat": 4,
 "nbformat_minor": 2
}
